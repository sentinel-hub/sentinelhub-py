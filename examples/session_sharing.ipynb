{
 "cells": [
  {
   "cell_type": "markdown",
   "id": "retained-developer",
   "metadata": {},
   "source": [
    "# Sharing Sentinel Hub authentication session\n",
    "\n",
    "Most of Sentinel Hub services require users to [authenticate](https://docs.sentinel-hub.com/api/latest/api/overview/authentication/) using their OAuth client credentials. Each authentication creates a new authentication session that typically lasts `1` hour and cannot be cancelled. Users are highly encouraged to configure their processes in a way that **at any time there won't be more than 100 active authentication sessions**.\n",
    "\n",
    "This package is implemented in a way that it automatically creates, caches, and reuses an authentication session within a single Python runtime process. Once the current session expires or the runtime process is restared it will automatically create a new session. This way normal users don't have worry about interacting with session objects directly. However, once users parallelize their processes over multiple Python processes or even a cluster of multiple compute instances then they should make sure that a single authentication session is shared between all of them.\n",
    "\n",
    "\n",
    "<div class=\"alert alert-danger\">\n",
    "\n",
    "**Important:**\n",
    "    \n",
    "As an example, let's say that a user splits their area of interest into `10.000` smaller bounding boxes. Then they parallelize data download from Sentinel Hub over these bounding boxes using `10` different Python processes. It depends on the type of parallelization, but without implementing a session sharing mechanism such procedure can create `10.000` different authentication sessions. This can cause that the user is temporary restricted from using Sentinel Hub services. In such cases please contact [support](https://docs.sentinel-hub.com/api/latest/support/).\n",
    "</div>\n",
    "\n",
    "\n",
    "This tutorial will explain the basic mechanism of working with sessions in `sentinelhub-py` and how to implement a session transfer for different types of parallelization. \n",
    "\n",
    "For the purposes of this tutorial, let's first configure a logging handler that will tell us exactly when a new session has been created:"
   ]
  },
  {
   "cell_type": "code",
   "execution_count": 1,
   "id": "grand-fossil",
   "metadata": {},
   "outputs": [],
   "source": [
    "import logging\n",
    "import sys\n",
    "from logging import Filter, Formatter, LogRecord, StreamHandler\n",
    "\n",
    "\n",
    "class SessionFilter(Filter):\n",
    "    \"\"\"A filter that removes every log record except the ones coming from\n",
    "    sentinelhub.download.session module.\"\"\"\n",
    "\n",
    "    def filter(self, record: LogRecord) -> bool:\n",
    "        return record.name == \"sentinelhub.download.session\"\n",
    "\n",
    "\n",
    "handler = StreamHandler(sys.stdout)\n",
    "handler.setLevel(logging.DEBUG)\n",
    "\n",
    "formatter = Formatter(\"%(asctime)s: %(message)s\")\n",
    "handler.setFormatter(formatter)\n",
    "\n",
    "log_filter = SessionFilter()\n",
    "handler.addFilter(log_filter)\n",
    "\n",
    "global_logger = logging.getLogger()\n",
    "global_logger.setLevel(logging.DEBUG)\n",
    "\n",
    "for handler in global_logger.handlers:\n",
    "    global_logger.removeHandler(handler)\n",
    "global_logger.addHandler(handler)"
   ]
  },
  {
   "cell_type": "markdown",
   "id": "shared-central",
   "metadata": {},
   "source": [
    "## Session mechanism\n",
    "\n",
    "In this chapter we'll see how a session in created, how to extract a session token from a download client or a session object, and how to set it back into the client. \n",
    "\n",
    "The tutorial requires a Sentinel Hub account. Please check [configuration instructions](https://sentinelhub-py.readthedocs.io/en/latest/configure.html) about how to set up your Sentinel Hub credentials."
   ]
  },
  {
   "cell_type": "code",
   "execution_count": 2,
   "id": "polar-wedding",
   "metadata": {},
   "outputs": [],
   "source": [
    "from sentinelhub import __version__, SentinelHubDownloadClient, SentinelHubSession, SHConfig\n",
    "\n",
    "\n",
    "assert __version__ >= \"3.6.0\", \"The minimal required package version for this tutorial is 3.6.0\"\n",
    "\n",
    "config = SHConfig()\n",
    "# config.sh_client_id = \"\"\n",
    "# config.sh_client_secret = \"\"\n",
    "\n",
    "if not config.sh_client_id or not config.sh_client_secret:\n",
    "    print(\"Please provide the credentials (OAuth client ID and client secret).\")\n",
    "\n",
    "# The following endpoint can be accessed only if a user is authenticated:\n",
    "EXAMPLE_URL = \"https://services.sentinel-hub.com/oauth/tokeninfo\""
   ]
  },
  {
   "cell_type": "markdown",
   "id": "smooth-spread",
   "metadata": {},
   "source": [
    "By default, a Sentinel Hub authentication session is created automatically from credentials in an instance of `SentinelHubDownloadClient` once a request, which requires a session, is made."
   ]
  },
  {
   "cell_type": "code",
   "execution_count": 3,
   "id": "sapphire-findings",
   "metadata": {},
   "outputs": [
    {
     "name": "stdout",
     "output_type": "stream",
     "text": [
      "2022-05-25 18:58:23,761: Creating a new authentication session with Sentinel Hub service\n"
     ]
    }
   ],
   "source": [
    "client = SentinelHubDownloadClient(config=config)\n",
    "\n",
    "# At this point session is created:\n",
    "_ = client.get_json(EXAMPLE_URL, use_session=True)"
   ]
  },
  {
   "cell_type": "markdown",
   "id": "mathematical-venue",
   "metadata": {},
   "source": [
    "Notice that running the above cell multiple time it will create a new session only the first time. This is because the session is cached in `SentinelHubDownloadClient` class itself and not on any particular instance of this class.\n",
    "\n",
    "A new session would created if before running the above cell you do anything of the following:\n",
    "\n",
    "- restart the Jupyter notebook's kernel,\n",
    "- change OAuth credentials in the `config` object that is used to initialize the client,\n",
    "- wait until the current session expires (about 1 hour),\n",
    "- run `SentinelHubDownloadClient.clear_cache()`\n",
    "\n",
    "From the client we can obtain the session object which contains the authentication session token."
   ]
  },
  {
   "cell_type": "code",
   "execution_count": 4,
   "id": "eight-webster",
   "metadata": {},
   "outputs": [
    {
     "name": "stdout",
     "output_type": "stream",
     "text": [
      "<sentinelhub.download.session.SentinelHubSession object at 0x7f48640cba30>\n"
     ]
    },
    {
     "data": {
      "text/plain": [
       "{'access_token': 'eyJ...', 'expires_in': 3599, 'expires_at': 1653501502.923365}"
      ]
     },
     "execution_count": 4,
     "metadata": {},
     "output_type": "execute_result"
    }
   ],
   "source": [
    "session = client.get_session()\n",
    "print(session)\n",
    "\n",
    "token = session.token\n",
    "\n",
    "# To avoid showing the whole token in this tutorial the following will partially hide it:\n",
    "token = token.copy()\n",
    "token[\"access_token\"] = token[\"access_token\"][:3] + \"...\"\n",
    "\n",
    "token"
   ]
  },
  {
   "cell_type": "markdown",
   "id": "durable-infrastructure",
   "metadata": {},
   "source": [
    "Alternatively, a session object can also be initialized directly. This way we can even configure how soon before expiry a token will be refreshed:"
   ]
  },
  {
   "cell_type": "code",
   "execution_count": 5,
   "id": "blind-disney",
   "metadata": {},
   "outputs": [
    {
     "name": "stdout",
     "output_type": "stream",
     "text": [
      "2022-05-25 18:58:24,149: Creating a new authentication session with Sentinel Hub service\n"
     ]
    }
   ],
   "source": [
    "session = SentinelHubSession(\n",
    "    config=config,\n",
    "    refresh_before_expiry=120,  # This is also the default value\n",
    ")\n",
    "\n",
    "# If a token would be extracted 120 seconds before expiry or later, the session\n",
    "# object would automatically authenticate again.\n",
    "token = session.token"
   ]
  },
  {
   "cell_type": "markdown",
   "id": "stretch-daisy",
   "metadata": {},
   "source": [
    "A session object can at any point be cached on the client:"
   ]
  },
  {
   "cell_type": "code",
   "execution_count": 6,
   "id": "continuous-female",
   "metadata": {},
   "outputs": [
    {
     "data": {
      "text/plain": [
       "True"
      ]
     },
     "execution_count": 6,
     "metadata": {},
     "output_type": "execute_result"
    }
   ],
   "source": [
    "client.cache_session(session)\n",
    "\n",
    "cached_session = client.get_session()\n",
    "cached_session is session"
   ]
  },
  {
   "cell_type": "markdown",
   "id": "intimate-stupid",
   "metadata": {},
   "source": [
    "Also a new session object can be initialized from a token. However, such a session object will be by default configured to be non-refreshing. Once a token expires it will not make another authentication."
   ]
  },
  {
   "cell_type": "code",
   "execution_count": 7,
   "id": "stainless-algorithm",
   "metadata": {},
   "outputs": [
    {
     "data": {
      "text/plain": [
       "<sentinelhub.download.session.SentinelHubSession at 0x7f4831ee2a60>"
      ]
     },
     "execution_count": 7,
     "metadata": {},
     "output_type": "execute_result"
    }
   ],
   "source": [
    "session = SentinelHubSession.from_token(token)\n",
    "\n",
    "session"
   ]
  },
  {
   "cell_type": "markdown",
   "id": "scenic-target",
   "metadata": {},
   "source": [
    "## Session sharing\n",
    "\n",
    "Different parallelization provide different support for memory sharing between processes. However, the following would be the most general description of the session sharing procedure:\n",
    "\n",
    "1. Before parallelization create a single authentication session.\n",
    "2. Create a thread that is continuously running the following 2-step procedure:\n",
    "   * extract a session token and send it to a shared memory space,\n",
    "   * wait until the current session token in close to expiring.\n",
    "3. Start parallelization with multiple Python processes.\n",
    "4. Each process should read the token from the shared memory space and cache it into its client object every time before it starts interacting with Sentinel Hub service.\n",
    "\n",
    "TODO: schema\n",
    "\n",
    "\n",
    "Note that an alternative solution, where a session object would be given to each Python process only at the beginning of parallelization, would work only if the entire parallelization would last less time than the token expiry time.\n",
    "\n",
    "The following code would create and serialize an authentication token:"
   ]
  },
  {
   "cell_type": "code",
   "execution_count": 8,
   "id": "modular-leadership",
   "metadata": {},
   "outputs": [
    {
     "name": "stdout",
     "output_type": "stream",
     "text": [
      "2022-05-25 18:58:24,337: Creating a new authentication session with Sentinel Hub service\n"
     ]
    }
   ],
   "source": [
    "import json\n",
    "\n",
    "\n",
    "session = SentinelHubSession(config=config, refresh_before_expiry=300)\n",
    "\n",
    "serialized_token = json.dumps(session.token)"
   ]
  },
  {
   "cell_type": "markdown",
   "id": "dedicated-adrian",
   "metadata": {},
   "source": [
    "The following code would deserialize authentiation token a cache it into a download client of another Python process:"
   ]
  },
  {
   "cell_type": "code",
   "execution_count": 9,
   "id": "ruled-moral",
   "metadata": {},
   "outputs": [],
   "source": [
    "token = json.loads(serialized_token)\n",
    "session = SentinelHubSession.from_token(token)\n",
    "\n",
    "SentinelHubDownloadClient.cache_session(\n",
    "    session,\n",
    "    # In case this Python process wouldn't be using any OAuth credentials use\n",
    "    # also the following parameter:  \n",
    "    # universal=True\n",
    ")"
   ]
  },
  {
   "cell_type": "markdown",
   "id": "greatest-module",
   "metadata": {},
   "source": [
    "## Parallelization frameworks\n",
    "\n",
    "In this chapter we'll provide implementations for `3` commonly used parallelization frameworks in Python:\n",
    "\n",
    "- [Standard Python multiprocessing](https://docs.python.org/3/library/multiprocessing.html),\n",
    "- [Ray](https://www.ray.io/),\n",
    "- [Dask](https://dask.org/).\n",
    "\n",
    "\n",
    "\n",
    "### Standard Python multiprocessing\n",
    "\n",
    "For parallelization with the framework from the Standard Python Library (modules `multiprocessing` or `concurrent.futures`) you can use utilities from `sentinelhub-py` that already implement the process defined in the previous chapter. The authentication token is passed to other processes with [`multiprocessing.shared_memory`](https://docs.python.org/3/library/multiprocessing.shared_memory.html) functionality.\n"
   ]
  },
  {
   "cell_type": "code",
   "execution_count": 10,
   "id": "chief-piano",
   "metadata": {},
   "outputs": [
    {
     "name": "stdout",
     "output_type": "stream",
     "text": [
      "2022-05-25 18:58:24,545: Creating a new authentication session with Sentinel Hub service\n"
     ]
    }
   ],
   "source": [
    "from concurrent.futures import ProcessPoolExecutor\n",
    "\n",
    "from sentinelhub.download import SessionSharingThread, collect_shared_session\n",
    "\n",
    "\n",
    "def remote_function(url: str, config: SHConfig) -> None:\n",
    "    \"\"\"A function that will run on a worker process.\n",
    "    \n",
    "    It collects a shared session, caches it, and then interacts with Sentinel Hub service\n",
    "    \"\"\"\n",
    "    session = collect_shared_session()\n",
    "    SentinelHubDownloadClient.cache_session(session)\n",
    "    \n",
    "    client = SentinelHubDownloadClient(config=config)\n",
    "    info = client.get_json(url, use_session=True)\n",
    "    \n",
    "\n",
    "# This will create a session that will be shared with all workers:\n",
    "session = SentinelHubSession(config)\n",
    "\n",
    "thread = SessionSharingThread(session)\n",
    "thread.start()  # Start sharing a session token in a new thread\n",
    "\n",
    "# \n",
    "with ProcessPoolExecutor(max_workers=3) as executor:\n",
    "    futures = [executor.submit(remote_function, EXAMPLE_URL, config) for _ in range(10)]\n",
    "    for future in futures:\n",
    "        future.result()\n",
    "    \n",
    "# Stop the thread or it will continue running\n",
    "thread.stop()"
   ]
  },
  {
   "cell_type": "markdown",
   "id": "dried-swing",
   "metadata": {},
   "source": [
    "### Ray\n",
    "\n",
    "The session sharing process in Ray framework is even easier because it implements shared mutable objects called [Ray Actors](https://docs.ray.io/en/latest/ray-core/actors.html)."
   ]
  },
  {
   "cell_type": "code",
   "execution_count": 11,
   "id": "tight-breeding",
   "metadata": {},
   "outputs": [
    {
     "name": "stderr",
     "output_type": "stream",
     "text": [
      "2022-05-25 18:58:29,316\tINFO services.py:1456 -- View the Ray dashboard at \u001b[1m\u001b[32mhttp://127.0.0.1:8265\u001b[39m\u001b[22m\n"
     ]
    },
    {
     "name": "stdout",
     "output_type": "stream",
     "text": [
      "2022-05-25 18:58:30,986: Creating a new authentication session with Sentinel Hub service\n"
     ]
    }
   ],
   "source": [
    "import ray\n",
    "\n",
    "\n",
    "@ray.remote\n",
    "class RaySessionActor:\n",
    "    \"\"\"This object has a mutable state and will be accessed by multiple Ray workers\n",
    "    in a consecutive way.\"\"\"\n",
    "    \n",
    "    def __init__(self, session: SentinelHubSession):\n",
    "        self.session = session\n",
    "\n",
    "    def get_valid_session(self) -> SentinelHubSession:\n",
    "        \"\"\"The following makes sure that a token is still valid or refreshed, and returns it in a\n",
    "        non-refreshing session object.\"\"\"\n",
    "        token = self.session.token\n",
    "        return SentinelHubSession.from_token(token)\n",
    "\n",
    "\n",
    "@ray.remote\n",
    "def remote_function(url: str, config: SHConfig, actor: RaySessionActor) -> None:\n",
    "    \"\"\"A function that will run on a worker process.\n",
    "    \n",
    "    It collects a shared session, caches it, and then interacts with Sentinel Hub service\n",
    "    \"\"\"\n",
    "    session = ray.get(actor.get_valid_session.remote())\n",
    "    SentinelHubDownloadClient.cache_session(session)\n",
    "    \n",
    "    client = SentinelHubDownloadClient(config=config)\n",
    "    info = client.get_json(url, use_session=True)\n",
    "\n",
    "    \n",
    "\n",
    "ray.init(ignore_reinit_error=True)\n",
    "\n",
    "session = SentinelHubSession(config)\n",
    "actor = RaySessionActor.remote(session)\n",
    "\n",
    "futures = [remote_function.remote(EXAMPLE_URL, config, actor) for _ in range(10)]\n",
    "ray.get(futures)\n",
    "\n",
    "ray.shutdown()"
   ]
  },
  {
   "cell_type": "markdown",
   "id": "animal-raise",
   "metadata": {},
   "source": [
    "An implementation of this process for a use case of downloading data from [Sentinel Hub Process API](https://docs.sentinel-hub.com/api/latest/api/process/) can be seen in [`eo-grow`](https://eo-grow.readthedocs.io/en/latest/) framework, which in combination with [`eo-learn`](https://eo-learn.readthedocs.io/en/latest/) heavily relies on Ray for large-scale processing.\n",
    "\n",
    "### Dask\n",
    "\n",
    "Similarly than Ray also Dask implements [Dask Actors](https://distributed.dask.org/en/stable/actors.html). We will again put the session into an actor an let it be accessed and refreshed there."
   ]
  },
  {
   "cell_type": "code",
   "execution_count": 12,
   "id": "vertical-fossil",
   "metadata": {},
   "outputs": [
    {
     "name": "stdout",
     "output_type": "stream",
     "text": [
      "2022-05-25 18:58:37,566: Creating a new authentication session with Sentinel Hub service\n"
     ]
    }
   ],
   "source": [
    "from dask.distributed import Client\n",
    "\n",
    "\n",
    "class DaskSessionActor:\n",
    "    \"\"\"This object has a mutable state and will be accessed by multiple Dask workers\n",
    "    in a consecutive way.\"\"\"\n",
    "    \n",
    "    def __init__(self, session: SentinelHubSession):\n",
    "        self.session = session\n",
    "\n",
    "    def get_valid_session(self) -> SentinelHubSession:\n",
    "        \"\"\"The following makes sure that a token is still valid or refreshed, and returns it in a\n",
    "        non-refreshing session object.\"\"\"\n",
    "        token = self.session.token\n",
    "        return SentinelHubSession.from_token(token)\n",
    "\n",
    "\n",
    "def remote_function(url: str, config: SHConfig, actor: DaskSessionActor) -> None:\n",
    "    \"\"\"A function that will run on a worker process.\n",
    "    \n",
    "    It collects a shared session, caches it, and then interacts with Sentinel Hub service\n",
    "    \"\"\"\n",
    "    session = actor.get_valid_session().result()\n",
    "    SentinelHubDownloadClient.cache_session(session)\n",
    "    \n",
    "    client = SentinelHubDownloadClient(config=config)\n",
    "    info = client.get_json(url, use_session=True)\n",
    "\n",
    "    \n",
    "\n",
    "dask_client = Client()\n",
    "\n",
    "session = SentinelHubSession(config)\n",
    "actor = dask_client.submit(DaskSessionActor, session, actor=True).result()\n",
    "\n",
    "futures = [dask_client.submit(remote_function, EXAMPLE_URL, config, actor) for _ in range(10)]\n",
    "for future in futures:\n",
    "    future.result()\n",
    "\n",
    "dask_client.shutdown()\n",
    "dask_client.close()"
   ]
  }
 ],
 "metadata": {
  "kernelspec": {
   "display_name": "Python 3 (ipykernel)",
   "language": "python",
   "name": "python3"
  },
  "language_info": {
   "codemirror_mode": {
    "name": "ipython",
    "version": 3
   },
   "file_extension": ".py",
   "mimetype": "text/x-python",
   "name": "python",
   "nbconvert_exporter": "python",
   "pygments_lexer": "ipython3",
   "version": "3.8.10"
  }
 },
 "nbformat": 4,
 "nbformat_minor": 5
}
